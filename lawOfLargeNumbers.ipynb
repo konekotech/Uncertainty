{
 "cells": [
  {
   "cell_type": "code",
   "execution_count": 10,
   "metadata": {},
   "outputs": [],
   "source": [
    "import random\n",
    "# 試行回数\n",
    "def makeAverage(n):\n",
    "    sum = 0\n",
    "    for i in range(0, n):\n",
    "        # 0〜1の範囲の実数をランダムに足す\n",
    "        sum += random.random()\n",
    "    # 平均を取る\n",
    "    ave = sum/n\n",
    "    print(\"WHEN n = {}\".format(n))\n",
    "    print(\"AVE: {}\".format(ave))\n",
    "    print(\"NOISE: {}\".format(ave-0.5))\n"
   ]
  },
  {
   "cell_type": "code",
   "execution_count": 13,
   "metadata": {},
   "outputs": [
    {
     "name": "stdout",
     "output_type": "stream",
     "text": [
      "WHEN n = 1000\n",
      "AVE: 0.49473389950841845\n",
      "NOISE: -0.005266100491581549\n",
      "WHEN n = 10000\n",
      "AVE: 0.495275603637936\n",
      "NOISE: -0.0047243963620640095\n",
      "WHEN n = 100000\n",
      "AVE: 0.5011033169933601\n",
      "NOISE: 0.0011033169933600817\n",
      "WHEN n = 1000000\n",
      "AVE: 0.49998867514908146\n",
      "NOISE: -1.1324850918537077e-05\n"
     ]
    }
   ],
   "source": [
    "makeAverage(1000)\n",
    "makeAverage(10000)\n",
    "makeAverage(100000)\n",
    "makeAverage(1000000)\n"
   ]
  }
 ],
 "metadata": {
  "kernelspec": {
   "display_name": "Python 3",
   "language": "python",
   "name": "python3"
  },
  "language_info": {
   "codemirror_mode": {
    "name": "ipython",
    "version": 3
   },
   "file_extension": ".py",
   "mimetype": "text/x-python",
   "name": "python",
   "nbconvert_exporter": "python",
   "pygments_lexer": "ipython3",
   "version": "3.10.7"
  },
  "orig_nbformat": 4
 },
 "nbformat": 4,
 "nbformat_minor": 2
}
