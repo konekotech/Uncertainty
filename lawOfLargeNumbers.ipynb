{
 "cells": [
  {
   "attachments": {},
   "cell_type": "markdown",
   "metadata": {},
   "source": [
    "$y = f(x)$を書いてみよう"
   ]
  },
  {
   "cell_type": "code",
   "execution_count": 1,
   "metadata": {},
   "outputs": [],
   "source": [
    "import random\n",
    "# 試行回数\n",
    "def makeAverage(n):\n",
    "    sum = 0\n",
    "    for i in range(0, n):\n",
    "        # 0〜1の範囲の実数をランダムに足す\n",
    "        sum += random.random()\n",
    "    # 平均を取る\n",
    "    # aveが標本平均，0.5が母平均\n",
    "    ave = sum/n\n",
    "    print(\"WHEN n = {}\".format(n))\n",
    "    print(\"AVE: {}\".format(ave))\n",
    "    print(\"NOISE: {}\".format(ave-0.5))\n"
   ]
  },
  {
   "cell_type": "code",
   "execution_count": 2,
   "metadata": {},
   "outputs": [
    {
     "name": "stdout",
     "output_type": "stream",
     "text": [
      "WHEN n = 1000\n",
      "AVE: 0.47695097757123706\n",
      "NOISE: -0.023049022428762944\n",
      "WHEN n = 10000\n",
      "AVE: 0.5005024632280434\n",
      "NOISE: 0.0005024632280433705\n",
      "WHEN n = 100000\n",
      "AVE: 0.5013917520283\n",
      "NOISE: 0.0013917520282999973\n",
      "WHEN n = 1000000\n",
      "AVE: 0.5002695784216841\n",
      "NOISE: 0.0002695784216840691\n"
     ]
    }
   ],
   "source": [
    "makeAverage(1000)\n",
    "makeAverage(10000)\n",
    "makeAverage(100000)\n",
    "makeAverage(1000000)\n"
   ]
  }
 ],
 "metadata": {
  "kernelspec": {
   "display_name": "Python 3",
   "language": "python",
   "name": "python3"
  },
  "language_info": {
   "codemirror_mode": {
    "name": "ipython",
    "version": 3
   },
   "file_extension": ".py",
   "mimetype": "text/x-python",
   "name": "python",
   "nbconvert_exporter": "python",
   "pygments_lexer": "ipython3",
   "version": "3.10.7"
  },
  "orig_nbformat": 4
 },
 "nbformat": 4,
 "nbformat_minor": 2
}
